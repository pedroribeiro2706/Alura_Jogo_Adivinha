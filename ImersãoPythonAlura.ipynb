{
  "nbformat": 4,
  "nbformat_minor": 0,
  "metadata": {
    "colab": {
      "provenance": [],
      "authorship_tag": "ABX9TyPWvdBeQ7uthfPSoRy4flgG",
      "include_colab_link": true
    },
    "kernelspec": {
      "name": "python3",
      "display_name": "Python 3"
    },
    "language_info": {
      "name": "python"
    }
  },
  "cells": [
    {
      "cell_type": "markdown",
      "metadata": {
        "id": "view-in-github",
        "colab_type": "text"
      },
      "source": [
        "<a href=\"https://colab.research.google.com/github/pedroribeiro2706/Alura_Jogo_Adivinha/blob/main/Imers%C3%A3oPythonAlura.ipynb\" target=\"_parent\"><img src=\"https://colab.research.google.com/assets/colab-badge.svg\" alt=\"Open In Colab\"/></a>"
      ]
    },
    {
      "cell_type": "code",
      "execution_count": 2,
      "metadata": {
        "colab": {
          "base_uri": "https://localhost:8080/"
        },
        "id": "UVXZEnA2PbEB",
        "outputId": "0de9defa-9ece-4174-ac87-8ebc0b15cb94"
      },
      "outputs": [
        {
          "output_type": "execute_result",
          "data": {
            "text/plain": [
              "43"
            ]
          },
          "metadata": {},
          "execution_count": 2
        }
      ],
      "source": [
        "import requests\n",
        "url = 'https://raw.githubusercontent.com/guilhermeonrails/api-imersao-ia/main/words.json'\n",
        "resposta = requests.get(url)\n",
        "data = resposta.json()\n",
        "len(data)"
      ]
    },
    {
      "cell_type": "code",
      "source": [
        "type(data)"
      ],
      "metadata": {
        "colab": {
          "base_uri": "https://localhost:8080/"
        },
        "id": "6DSR3QKZS_We",
        "outputId": "fe8f48a3-e6f3-4630-f703-d84d7c59be71"
      },
      "execution_count": null,
      "outputs": [
        {
          "output_type": "execute_result",
          "data": {
            "text/plain": [
              "list"
            ]
          },
          "metadata": {},
          "execution_count": 5
        }
      ]
    },
    {
      "cell_type": "code",
      "source": [
        "data[0]"
      ],
      "metadata": {
        "colab": {
          "base_uri": "https://localhost:8080/"
        },
        "id": "ugfO2jv_TBF5",
        "outputId": "71c2731a-2bb4-4b85-c7f7-8191461a1a49"
      },
      "execution_count": null,
      "outputs": [
        {
          "output_type": "execute_result",
          "data": {
            "text/plain": [
              "{'palavra': 'python',\n",
              " 'dica': 'automatizar tarefas e desenvolver aplicações web.'}"
            ]
          },
          "metadata": {},
          "execution_count": 6
        }
      ]
    },
    {
      "cell_type": "code",
      "source": [
        "import random\n",
        "valor_secreto = random.choice(data)\n",
        "palavra_secreta = valor_secreto['palavra']\n",
        "dica = valor_secreto['dica']\n",
        "#print(f'A palavra secreta tem {len(palavra_secreta)} letras --> {dica}')\n",
        "chute = input(f'A palavra secreta tem {len(palavra_secreta)} letras --> {dica}')\n",
        "if chute == palavra_secreta:\n",
        "    print('Você acertou!')\n",
        "else:\n",
        "    print(f'Você errou! A palavra secreta é {palavra_secreta}')"
      ],
      "metadata": {
        "colab": {
          "base_uri": "https://localhost:8080/"
        },
        "id": "UvJ8tg_6TO14",
        "outputId": "0559c9ea-7090-4826-cad8-ab7b94d4bfd7"
      },
      "execution_count": 3,
      "outputs": [
        {
          "output_type": "stream",
          "name": "stdout",
          "text": [
            "A palavra secreta tem 8 letras --> desenvolver aplicativos móveis e web com uma plataforma de backend escalável.dedie\n",
            "Você errou! A palavra secreta é firebase\n"
          ]
        }
      ]
    },
    {
      "cell_type": "code",
      "source": [],
      "metadata": {
        "id": "s0izBOQUUEg7"
      },
      "execution_count": null,
      "outputs": []
    }
  ]
}